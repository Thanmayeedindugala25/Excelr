{
  "nbformat": 4,
  "nbformat_minor": 0,
  "metadata": {
    "colab": {
      "provenance": [],
      "authorship_tag": "ABX9TyNDCJNEDieBDYUqkby26BDf",
      "include_colab_link": true
    },
    "kernelspec": {
      "name": "python3",
      "display_name": "Python 3"
    },
    "language_info": {
      "name": "python"
    }
  },
  "cells": [
    {
      "cell_type": "markdown",
      "metadata": {
        "id": "view-in-github",
        "colab_type": "text"
      },
      "source": [
        "<a href=\"https://colab.research.google.com/github/Thanmayeedindugala25/Excelr-/blob/main/Excelr_Assignments.ipynb\" target=\"_parent\"><img src=\"https://colab.research.google.com/assets/colab-badge.svg\" alt=\"Open In Colab\"/></a>"
      ]
    },
    {
      "cell_type": "markdown",
      "source": [
        "**Day-1. Jupyter Notebook and Data Types\n",
        "Write a program in Jupyter Notebook to declare variables of different data types (integer, float, string, and boolean). Print each variable and its type.**\n"
      ],
      "metadata": {
        "id": "k9a0BIFAiNO7"
      }
    },
    {
      "cell_type": "code",
      "source": [
        "# Declare variables of different data types\n",
        "integer_var = 42\n",
        "float_var = 3.14\n",
        "string_var = \"Hello, World!\"\n",
        "boolean_var = True\n",
        "\n",
        "# Print each variable and its type\n",
        "print(\"Integer variable:\", integer_var, \"| Type:\", type(integer_var))\n",
        "print(\"Float variable:\", float_var, \"| Type:\", type(float_var))\n",
        "print(\"String variable:\", string_var, \"| Type:\", type(string_var))\n",
        "print(\"Boolean variable:\", boolean_var, \"| Type:\", type(boolean_var))\n"
      ],
      "metadata": {
        "colab": {
          "base_uri": "https://localhost:8080/"
        },
        "id": "wdT9wCfWiOTq",
        "outputId": "d4c35cff-086f-4b03-f7e3-6abe7418e56d"
      },
      "execution_count": 10,
      "outputs": [
        {
          "output_type": "stream",
          "name": "stdout",
          "text": [
            "Integer variable: 42 | Type: <class 'int'>\n",
            "Float variable: 3.14 | Type: <class 'float'>\n",
            "String variable: Hello, World! | Type: <class 'str'>\n",
            "Boolean variable: True | Type: <class 'bool'>\n"
          ]
        }
      ]
    },
    {
      "cell_type": "markdown",
      "source": [
        "**Day-2 : Create a List, tuple and Dictionary with 5 elements in it and how to access few elements based on the index. Try  with different examples**\n"
      ],
      "metadata": {
        "id": "sLImaXK3inXy"
      }
    },
    {
      "cell_type": "markdown",
      "source": [
        "**List Example**"
      ],
      "metadata": {
        "id": "CCtAqjVZiv4Q"
      }
    },
    {
      "cell_type": "code",
      "source": [
        "# Create a list\n",
        "fruits = [\"apple\", \"banana\", \"cherry\", \"mango\", \"orange\"]\n",
        "\n",
        "# Access elements by index\n",
        "print(fruits[0])  # Output: apple (1st element)\n",
        "print(fruits[3])  # Output: mango (4th element)\n",
        "\n",
        "# Access last element\n",
        "print(fruits[-1])  # Output: orange\n"
      ],
      "metadata": {
        "colab": {
          "base_uri": "https://localhost:8080/"
        },
        "id": "mmzMrN6XiT7r",
        "outputId": "371304f6-4028-45d9-84ca-a4763284a3d6"
      },
      "execution_count": 2,
      "outputs": [
        {
          "output_type": "stream",
          "name": "stdout",
          "text": [
            "apple\n",
            "mango\n",
            "orange\n"
          ]
        }
      ]
    },
    {
      "cell_type": "markdown",
      "source": [
        "**Tuple Example**"
      ],
      "metadata": {
        "id": "MUPnq3NAi-iE"
      }
    },
    {
      "cell_type": "code",
      "source": [
        "# Create a tuple\n",
        "colors = (\"red\", \"blue\", \"green\", \"yellow\", \"purple\")\n",
        "\n",
        "# Access elements by index\n",
        "print(colors[1])  # Output: blue (2nd element)\n",
        "print(colors[-2])  # Output: yellow (2nd last element)\n",
        "\n",
        "# Access a range of elements\n",
        "print(colors[1:4])  # Output: ('blue', 'green', 'yellow')\n"
      ],
      "metadata": {
        "colab": {
          "base_uri": "https://localhost:8080/"
        },
        "id": "FbwVK4Nli7ty",
        "outputId": "953dcb36-d79c-46b9-f342-094db3b657c7"
      },
      "execution_count": 3,
      "outputs": [
        {
          "output_type": "stream",
          "name": "stdout",
          "text": [
            "blue\n",
            "yellow\n",
            "('blue', 'green', 'yellow')\n"
          ]
        }
      ]
    },
    {
      "cell_type": "markdown",
      "source": [
        "**Dictionary Example**"
      ],
      "metadata": {
        "id": "Uueg8ut1jORM"
      }
    },
    {
      "cell_type": "code",
      "source": [
        "# Create a dictionary\n",
        "student = {\n",
        "    \"name\": \"Alice\",\n",
        "    \"age\": 20,\n",
        "    \"grade\": \"A\",\n",
        "    \"subject\": \"Mathematics\",\n",
        "    \"city\": \"New York\"\n",
        "}\n",
        "\n",
        "# Access elements by key\n",
        "print(student[\"name\"])  # Output: Alice\n",
        "print(student[\"city\"])  # Output: New York\n",
        "\n",
        "# Access using get() method (to avoid KeyError)\n",
        "print(student.get(\"age\"))  # Output: 20\n"
      ],
      "metadata": {
        "colab": {
          "base_uri": "https://localhost:8080/"
        },
        "id": "qFjixHGFjLo3",
        "outputId": "b60a69a5-6e57-4c53-c311-fadf4c6e5677"
      },
      "execution_count": 4,
      "outputs": [
        {
          "output_type": "stream",
          "name": "stdout",
          "text": [
            "Alice\n",
            "New York\n",
            "20\n"
          ]
        }
      ]
    },
    {
      "cell_type": "markdown",
      "source": [
        "**Day-3:Write a Python program that takes a student's marks in three subjects as input.\n",
        "If the average is greater than or equal to 90, print \"Grade: A\".\n",
        "If the average is between 80 and 89, print \"Grade: B\".\n",
        "If the average is between 70 and 79, print \"Grade: C\".\n",
        "Otherwise, print \"Grade: Fail\".**"
      ],
      "metadata": {
        "id": "aEvICDrUjfIj"
      }
    },
    {
      "cell_type": "code",
      "source": [
        "# Get marks for three subjects from the user\n",
        "subject1 = float(input(\"Enter marks for Subject 1: \"))\n",
        "subject2 = float(input(\"Enter marks for Subject 2: \"))\n",
        "subject3 = float(input(\"Enter marks for Subject 3: \"))\n",
        "\n",
        "# Calculate the average marks\n",
        "average = (subject1 + subject2 + subject3) / 3\n",
        "\n",
        "# Determine the grade based on the average\n",
        "if average >= 90:\n",
        "    print(\"Grade: A\")\n",
        "elif 80 <= average <= 89:\n",
        "    print(\"Grade: B\")\n",
        "elif 70 <= average <= 79:\n",
        "    print(\"Grade: C\")\n",
        "else:\n",
        "    print(\"Grade: Fail\")\n"
      ],
      "metadata": {
        "colab": {
          "base_uri": "https://localhost:8080/"
        },
        "id": "yd1RNdV0jStn",
        "outputId": "45af8eea-47d5-4106-8eee-0a943d0ee565"
      },
      "execution_count": 5,
      "outputs": [
        {
          "output_type": "stream",
          "name": "stdout",
          "text": [
            "Enter marks for Subject 1: 80\n",
            "Enter marks for Subject 2: 89\n",
            "Enter marks for Subject 3: 88\n",
            "Grade: B\n"
          ]
        }
      ]
    },
    {
      "cell_type": "markdown",
      "source": [
        "**Day -4 : Write a Python program to calculate the sum of all even numbers between 1 and a given positive integer n**\n"
      ],
      "metadata": {
        "id": "fQBgMHLUjsX3"
      }
    },
    {
      "cell_type": "code",
      "source": [
        "# Input: Get the value of n from the user\n",
        "n = int(input(\"Enter a positive integer: \"))\n",
        "\n",
        "# Initialize sum\n",
        "even_sum = 0\n",
        "\n",
        "# Calculate the sum of even numbers\n",
        "for i in range(2, n + 1, 2):  # Step by 2 to include only even numbers\n",
        "    even_sum += i\n",
        "\n",
        "# Output the result\n",
        "print(f\"The sum of all even numbers between 1 and {n} is: {even_sum}\")\n"
      ],
      "metadata": {
        "colab": {
          "base_uri": "https://localhost:8080/"
        },
        "id": "ogN0-hFqjhT5",
        "outputId": "458dd218-2610-437f-8bb9-7e3c3952b303"
      },
      "execution_count": 11,
      "outputs": [
        {
          "output_type": "stream",
          "name": "stdout",
          "text": [
            "Enter a positive integer: 88\n",
            "The sum of all even numbers between 1 and 88 is: 1980\n"
          ]
        }
      ]
    },
    {
      "cell_type": "markdown",
      "source": [
        "**Day-5 :Write a Python program to calculate the frequency of each word in a given text. Print the words and their corresponding counts.**\n"
      ],
      "metadata": {
        "id": "N-0R8pr9koFY"
      }
    },
    {
      "cell_type": "code",
      "source": [
        "def calculate_word_frequency(text):\n",
        "    # Convert the text to lowercase to ensure case-insensitivity\n",
        "    text = text.lower()\n",
        "\n",
        "    # Remove punctuation from the text\n",
        "    import string\n",
        "    text = text.translate(str.maketrans(\"\", \"\", string.punctuation))\n",
        "\n",
        "    # Split the text into words\n",
        "    words = text.split()\n",
        "\n",
        "    # Create a dictionary to store word frequencies\n",
        "    word_counts = {}\n",
        "\n",
        "    for word in words:\n",
        "        word_counts[word] = word_counts.get(word, 0) + 1\n",
        "\n",
        "    return word_counts\n",
        "\n",
        "# Input text from the user\n",
        "text = input(\"Enter text: \")\n",
        "\n",
        "# Calculate word frequencies\n",
        "word_frequencies = calculate_word_frequency(text)\n",
        "\n",
        "# Print the words and their corresponding counts\n",
        "print(\"\\nWord frequencies:\")\n",
        "for word, count in word_frequencies.items():\n",
        "    print(f\"{word}: {count}\")\n"
      ],
      "metadata": {
        "colab": {
          "base_uri": "https://localhost:8080/"
        },
        "id": "2zvfpMaSjv4Q",
        "outputId": "db9e75c2-d3af-4fc0-a31b-4a62e417745a"
      },
      "execution_count": 8,
      "outputs": [
        {
          "output_type": "stream",
          "name": "stdout",
          "text": [
            "Enter text: Hello world! Hello Python world.\n",
            "\n",
            "Word frequencies:\n",
            "hello: 2\n",
            "world: 2\n",
            "python: 1\n"
          ]
        }
      ]
    },
    {
      "cell_type": "markdown",
      "source": [
        "\n",
        "\n",
        "\n",
        "\n",
        "**Day -6: Write a Python program to using NLTK and Spacy\n",
        "Convert text to lowercase.\n",
        "Remove stopwords using NLTK**"
      ],
      "metadata": {
        "id": "1f0H7YCp50FU"
      }
    },
    {
      "cell_type": "code",
      "source": [
        "import nltk\n",
        "import spacy\n",
        "from nltk.corpus import stopwords\n",
        "\n",
        "# Download NLTK stopwords if not already downloaded\n",
        "nltk.download('stopwords')\n",
        "\n",
        "def preprocess_text(text):\n",
        "    # Load spaCy's English language model\n",
        "    nlp = spacy.load(\"en_core_web_sm\")\n",
        "\n",
        "    # Convert text to lowercase\n",
        "    text = text.lower()\n",
        "\n",
        "    # Remove stopwords using NLTK\n",
        "    stop_words = set(stopwords.words(\"english\"))\n",
        "    tokens = text.split()\n",
        "    filtered_tokens = [word for word in tokens if word not in stop_words]\n",
        "\n",
        "    # Join filtered tokens into a single string\n",
        "    processed_text = \" \".join(filtered_tokens)\n",
        "\n",
        "    return processed_text\n",
        "\n",
        "# Input text from the user\n",
        "text = input(\"Enter text: \")\n",
        "\n",
        "# Process the text\n",
        "processed_text = preprocess_text(text)\n",
        "\n",
        "# Display the processed text\n",
        "print(\"\\nProcessed Text:\")\n",
        "print(processed_text)\n"
      ],
      "metadata": {
        "colab": {
          "base_uri": "https://localhost:8080/"
        },
        "id": "maHgnGqakvW-",
        "outputId": "fbd208fa-f825-4926-ea62-748d7c4f3da1"
      },
      "execution_count": 9,
      "outputs": [
        {
          "output_type": "stream",
          "name": "stderr",
          "text": [
            "[nltk_data] Downloading package stopwords to /root/nltk_data...\n",
            "[nltk_data]   Unzipping corpora/stopwords.zip.\n"
          ]
        },
        {
          "output_type": "stream",
          "name": "stdout",
          "text": [
            "Enter text: This is a simple example to demonstrate text processing!\n",
            "\n",
            "Processed Text:\n",
            "simple example demonstrate text processing!\n"
          ]
        }
      ]
    },
    {
      "cell_type": "markdown",
      "source": [
        "**Day-7:Write a Python script that:Use Genism to preprocess data from a sample text file, follow basic procedures like tokenization, stemming, lemmatization etc.**\n"
      ],
      "metadata": {
        "id": "RbWE0ClTTJx7"
      }
    },
    {
      "cell_type": "code",
      "source": [
        "import nltk\n",
        "from gensim.utils import simple_preprocess\n",
        "from gensim.parsing.preprocessing import STOPWORDS\n",
        "from nltk.stem import PorterStemmer, WordNetLemmatizer\n",
        "\n",
        "# Download necessary resources for NLTK\n",
        "nltk.download('wordnet')\n",
        "nltk.download('omw-1.4')\n",
        "\n",
        "# Function for text preprocessing\n",
        "def preprocess_text(text):\n",
        "    # Tokenization using Gensim's simple_preprocess\n",
        "    tokens = simple_preprocess(text, deacc=True)  # deacc removes punctuations\n",
        "\n",
        "    # Remove stopwords\n",
        "    tokens = [word for word in tokens if word not in STOPWORDS]\n",
        "\n",
        "    # Stemming using NLTK\n",
        "    stemmer = PorterStemmer()\n",
        "    stemmed_tokens = [stemmer.stem(word) for word in tokens]\n",
        "\n",
        "    # Lemmatization using NLTK\n",
        "    lemmatizer = WordNetLemmatizer()\n",
        "    lemmatized_tokens = [lemmatizer.lemmatize(word) for word in stemmed_tokens]\n",
        "\n",
        "    return lemmatized_tokens\n",
        "\n",
        "# Example input sentence\n",
        "text_data = \"The quick brown fox jumps over the lazy dog. This is a test document for text preprocessing.\"\n",
        "\n",
        "# Preprocess the text\n",
        "preprocessed_data = preprocess_text(text_data)\n",
        "\n",
        "# Display the results\n",
        "print(\"Preprocessed Text Tokens:\")\n",
        "print(preprocessed_data)\n"
      ],
      "metadata": {
        "colab": {
          "base_uri": "https://localhost:8080/"
        },
        "id": "el2GDlSp6fNJ",
        "outputId": "bb727e7f-b565-44be-c3ac-cda03ad56134"
      },
      "execution_count": 12,
      "outputs": [
        {
          "output_type": "stream",
          "name": "stderr",
          "text": [
            "[nltk_data] Downloading package wordnet to /root/nltk_data...\n",
            "[nltk_data] Downloading package omw-1.4 to /root/nltk_data...\n"
          ]
        },
        {
          "output_type": "stream",
          "name": "stdout",
          "text": [
            "Preprocessed Text Tokens:\n",
            "['quick', 'brown', 'fox', 'jump', 'lazi', 'dog', 'test', 'document', 'text', 'preprocess']\n"
          ]
        }
      ]
    },
    {
      "cell_type": "markdown",
      "source": [
        "**Day-8:Write a Python script that: Tokenizes a sample paragraph into words and sentences.**\n",
        "\n"
      ],
      "metadata": {
        "id": "Vpp76YpQTtbK"
      }
    },
    {
      "cell_type": "code",
      "source": [
        "import nltk\n",
        "from nltk.tokenize import word_tokenize, sent_tokenize\n",
        "\n",
        "# Download the punkt tokenizer model if it's missing\n",
        "nltk.download('punkt')\n",
        "nltk.download('punkt_tab')\n",
        "\n",
        "# Sample paragraph\n",
        "paragraph = \"\"\"\n",
        "Natural language processing (NLP) is a field of artificial intelligence that focuses on the interaction between computers and humans using natural language.\n",
        "The ultimate goal of NLP is to enable computers to understand, interpret, and generate human language in a way that is both valuable and meaningful.\n",
        "\"\"\"\n",
        "\n",
        "# Tokenizing into sentences\n",
        "sentences = sent_tokenize(paragraph)\n",
        "print(\"Sentences:\")\n",
        "for sentence in sentences:\n",
        "    print(sentence)\n",
        "\n",
        "# Tokenizing into words\n",
        "words = word_tokenize(paragraph)\n",
        "print(\"\\nWords:\")\n",
        "print(words)\n"
      ],
      "metadata": {
        "colab": {
          "base_uri": "https://localhost:8080/"
        },
        "id": "Lr7pO2aPXtfq",
        "outputId": "e2e6605b-64a7-4b86-9e26-0fd0ee956d6d"
      },
      "execution_count": 35,
      "outputs": [
        {
          "output_type": "stream",
          "name": "stderr",
          "text": [
            "[nltk_data] Downloading package punkt to /root/nltk_data...\n",
            "[nltk_data]   Package punkt is already up-to-date!\n",
            "[nltk_data] Downloading package punkt_tab to /root/nltk_data...\n",
            "[nltk_data]   Unzipping tokenizers/punkt_tab.zip.\n"
          ]
        },
        {
          "output_type": "stream",
          "name": "stdout",
          "text": [
            "Sentences:\n",
            "\n",
            "Natural language processing (NLP) is a field of artificial intelligence that focuses on the interaction between computers and humans using natural language.\n",
            "The ultimate goal of NLP is to enable computers to understand, interpret, and generate human language in a way that is both valuable and meaningful.\n",
            "\n",
            "Words:\n",
            "['Natural', 'language', 'processing', '(', 'NLP', ')', 'is', 'a', 'field', 'of', 'artificial', 'intelligence', 'that', 'focuses', 'on', 'the', 'interaction', 'between', 'computers', 'and', 'humans', 'using', 'natural', 'language', '.', 'The', 'ultimate', 'goal', 'of', 'NLP', 'is', 'to', 'enable', 'computers', 'to', 'understand', ',', 'interpret', ',', 'and', 'generate', 'human', 'language', 'in', 'a', 'way', 'that', 'is', 'both', 'valuable', 'and', 'meaningful', '.']\n"
          ]
        }
      ]
    },
    {
      "cell_type": "markdown",
      "source": [
        "**Day-9 : Write a Python function to clean a given text by removing special characters and converting it to lowercase. Test it with the input: 'Hello, World! Welcome to NLP 101.'**\n"
      ],
      "metadata": {
        "id": "G6rztSFiVfTa"
      }
    },
    {
      "cell_type": "code",
      "source": [
        "# prompt:  Write a Python function to clean a given text by removing special characters and converting it to lowercase. Test it with the input: 'Hello, World! Welcome to NLP 101.\n",
        "\n",
        "import re\n",
        "\n",
        "def clean_text(text):\n",
        "    \"\"\"\n",
        "    Cleans a given text by removing special characters and converting it to lowercase.\n",
        "\n",
        "    Args:\n",
        "        text (str): The input text to clean.\n",
        "\n",
        "    Returns:\n",
        "        str: The cleaned text.\n",
        "    \"\"\"\n",
        "    # Remove special characters using regular expressions\n",
        "    text = re.sub(r'[^\\w\\s]', '', text)\n",
        "\n",
        "    # Convert text to lowercase\n",
        "    text = text.lower()\n",
        "\n",
        "    return text\n",
        "\n",
        "# Test the function\n",
        "input_text = 'Hello, World! Welcome to NLP 101.'\n",
        "cleaned_text = clean_text(input_text)\n",
        "print(f\"Original text: {input_text}\")\n",
        "print(f\"Cleaned text: {cleaned_text}\")"
      ],
      "metadata": {
        "colab": {
          "base_uri": "https://localhost:8080/"
        },
        "id": "1t8JQOi4XlM-",
        "outputId": "b6259dad-f302-48c3-862b-5c18c0f11c5d"
      },
      "execution_count": 26,
      "outputs": [
        {
          "output_type": "stream",
          "name": "stdout",
          "text": [
            "Original text: Hello, World! Welcome to NLP 101.\n",
            "Cleaned text: hello world welcome to nlp 101\n"
          ]
        }
      ]
    },
    {
      "cell_type": "markdown",
      "source": [
        "**Day-10 : Write a Python function using regular expressions to extract all email addresses from a given string. Test it with the input: 'Contact us at support@example.com and sales@example.org.'**"
      ],
      "metadata": {
        "id": "Vb5ZqFfBXXNT"
      }
    },
    {
      "cell_type": "code",
      "source": [
        "import re\n",
        "from collections import Counter\n",
        "\n",
        "def word_frequency(text):\n",
        "    # Convert text to lowercase and split into words\n",
        "    words = text.lower().split()\n",
        "\n",
        "    # Count frequency of each word\n",
        "    word_counts = Counter(words)\n",
        "\n",
        "    # Print words and their frequencies\n",
        "    for word, count in word_counts.items():\n",
        "        print(f\"{word}: {count}\")\n",
        "\n",
        "def extract_emails(text):\n",
        "    # Regular expression pattern for email addresses\n",
        "    email_pattern = r'\\b[A-Za-z0-9._%+-]+@[A-Za-z0-9.-]+\\.[A-Z|a-z]{2,}\\b'\n",
        "    return re.findall(email_pattern, text)\n",
        "\n",
        "# Example usage\n",
        "if __name__ == \"__main__\":\n",
        "    text = input(\"Enter a text: \")\n",
        "    word_frequency(text)\n",
        "    emails = extract_emails(text)\n",
        "    print(\"Extracted emails:\", emails)"
      ],
      "metadata": {
        "colab": {
          "base_uri": "https://localhost:8080/"
        },
        "id": "99d3f2tiVntL",
        "outputId": "cbd2f192-1862-4691-88fa-1fbb3f1494f1"
      },
      "execution_count": 20,
      "outputs": [
        {
          "output_type": "stream",
          "name": "stdout",
          "text": [
            "Enter a text: 22 zzz@gmail.com this is huhh\n",
            "22: 1\n",
            "zzz@gmail.com: 1\n",
            "this: 1\n",
            "is: 1\n",
            "huhh: 1\n",
            "Extracted emails: ['zzz@gmail.com']\n"
          ]
        }
      ]
    },
    {
      "cell_type": "markdown",
      "source": [
        "**Day-11: Write a Python script to fetch and print the title of a webpage using the 'requests' and 'BeautifulSoup' libraries. Test it with the URL: 'https://example.com'.**\n"
      ],
      "metadata": {
        "id": "wVMrSvkgWyt7"
      }
    },
    {
      "cell_type": "code",
      "source": [
        "import requests\n",
        "from bs4 import BeautifulSoup\n",
        "\n",
        "# URL of the webpage\n",
        "url = 'https://example.com'\n",
        "\n",
        "# Send a GET request to fetch the webpage content\n",
        "response = requests.get(url)\n",
        "\n",
        "# Parse the content with BeautifulSoup\n",
        "soup = BeautifulSoup(response.content, 'html.parser')\n",
        "\n",
        "# Find and print the title of the webpage\n",
        "title = soup.title.string\n",
        "print(\"Title of the webpage:\", title)\n"
      ],
      "metadata": {
        "colab": {
          "base_uri": "https://localhost:8080/"
        },
        "id": "KgowZBuFWmp1",
        "outputId": "fac50ffd-3251-49ee-f4e9-cb8992c4823a"
      },
      "execution_count": 24,
      "outputs": [
        {
          "output_type": "stream",
          "name": "stdout",
          "text": [
            "Title of the webpage: Example Domain\n"
          ]
        }
      ]
    },
    {
      "cell_type": "markdown",
      "source": [
        "**Day - 12 : Write a Python script to generate a WordCloud from the text: 'data science machine learning artificial intelligence'. Save the WordCloud as an image.**\n"
      ],
      "metadata": {
        "id": "RCsn-SzSYTee"
      }
    },
    {
      "cell_type": "code",
      "source": [
        "from wordcloud import WordCloud\n",
        "import matplotlib.pyplot as plt\n",
        "\n",
        "# Text input for the WordCloud\n",
        "text = 'data science machine learning artificial intelligence'\n",
        "\n",
        "# Create the WordCloud object\n",
        "wordcloud = WordCloud(width=800, height=400, background_color='white').generate(text)\n",
        "\n",
        "# Plot and save the WordCloud image\n",
        "plt.figure(figsize=(10, 5))\n",
        "plt.imshow(wordcloud, interpolation='bilinear')\n",
        "plt.axis('off')  # Turn off axis\n",
        "plt.savefig('wordcloud_image.png', format='png')  # Save the image\n",
        "plt.show()\n"
      ],
      "metadata": {
        "colab": {
          "base_uri": "https://localhost:8080/",
          "height": 422
        },
        "id": "jrf9hqkRYNFU",
        "outputId": "ef987fca-f6ad-4fb5-bb32-2a5a15bc5f0d"
      },
      "execution_count": 31,
      "outputs": [
        {
          "output_type": "display_data",
          "data": {
            "text/plain": [
              "<Figure size 1000x500 with 1 Axes>"
            ],
            "image/png": "[encoded data removed]"
          },
          "metadata": {}
        }
      ]
    },
    {
      "cell_type": "markdown",
      "source": [
        "**Day-13 : Write a Python script to perform part-of-speech tagging on the sentence: 'NLP is amazing and fun to learn.' using SpaCy.**\n"
      ],
      "metadata": {
        "id": "ijFiKL2ZYo7A"
      }
    },
    {
      "cell_type": "code",
      "source": [
        "# prompt: Write a Python script to perform part-of-speech tagging on the sentence: 'NLP is amazing and fun to learn.' using SpaCy.\n",
        "\n",
        "import spacy\n",
        "\n",
        "# Load the SpaCy English language model\n",
        "nlp = spacy.load(\"en_core_web_sm\")\n",
        "\n",
        "# Input sentence\n",
        "sentence = \"NLP is amazing and fun to learn.\"\n",
        "\n",
        "# Process the sentence with SpaCy\n",
        "doc = nlp(sentence)\n",
        "\n",
        "# Print the part-of-speech tags for each token\n",
        "for token in doc:\n",
        "  print(f\"{token.text} - {token.pos_}\")"
      ],
      "metadata": {
        "colab": {
          "base_uri": "https://localhost:8080/"
        },
        "id": "ruVK9FZWW58P",
        "outputId": "5be55f09-450c-41f1-828b-9c040ce9d195"
      },
      "execution_count": 32,
      "outputs": [
        {
          "output_type": "stream",
          "name": "stdout",
          "text": [
            "NLP - PROPN\n",
            "is - AUX\n",
            "amazing - ADJ\n",
            "and - CCONJ\n",
            "fun - ADJ\n",
            "to - PART\n",
            "learn - VERB\n",
            ". - PUNCT\n"
          ]
        }
      ]
    },
    {
      "cell_type": "code",
      "source": [],
      "metadata": {
        "id": "6XwCg-e8Ymt5"
      },
      "execution_count": null,
      "outputs": []
    }
  ]
}